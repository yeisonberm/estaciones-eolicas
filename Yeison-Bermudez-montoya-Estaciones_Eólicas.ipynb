{
 "cells": [
  {
   "cell_type": "code",
   "execution_count": 59,
   "metadata": {},
   "outputs": [
    {
     "name": "stdout",
     "output_type": "stream",
     "text": [
      "correcto\n"
     ]
    }
   ],
   "source": [
    "import csv\n",
    "\n",
    "requerimiento1 = [['Nombre de la estacion','Fecha en el formato YYYY-MM-DD','Año', 'Mes', 'Dia', 'HHMMSS','Hora(HH)', 'Minuto','Direccion', 'Velocidad']]\n",
    "\n",
    "with open('C:\\\\Users\\\\Jassan\\\\Desktop\\\\Trimestre_5\\\\Python\\\\python\\\\Estaciones-Eolicas\\\\files\\\\06\\\\requerimiento1.csv', 'w', newline='') as ejercicio1:\n",
    "    writer = csv.writer(ejercicio1,delimiter=\";\")\n",
    "    writer.writerows(requerimiento1)\n",
    "print('correcto')\n"
   ]
  },
  {
   "cell_type": "code",
   "execution_count": 60,
   "metadata": {},
   "outputs": [
    {
     "name": "stdout",
     "output_type": "stream",
     "text": [
      "correcto\n"
     ]
    }
   ],
   "source": [
    "import csv\n",
    "\n",
    "requerimiento2 = [['Nombre de la estacion','Año', 'Mes', 'Dia', 'HHMMSS', 'Velocidad media del viento para la correspodiente hora.']]\n",
    "\n",
    "with open('C:\\\\Users\\\\Jassan\\\\Desktop\\\\Trimestre_5\\\\Python\\\\python\\\\Estaciones-Eolicas\\\\files\\\\06\\\\requerimiento2.csv', 'w', newline='') as ejercicio2:\n",
    "    writer = csv.writer(ejercicio2,delimiter=\";\")\n",
    "    writer.writerows(requerimiento2)\n",
    "print('correcto')"
   ]
  },
  {
   "cell_type": "code",
   "execution_count": 62,
   "metadata": {},
   "outputs": [
    {
     "name": "stdout",
     "output_type": "stream",
     "text": [
      "correcto\n"
     ]
    }
   ],
   "source": [
    "import csv\n",
    "\n",
    "requerimiento3 = [['Estacion','Año', 'Mes','Velocidad media del viento para del mes.','Velocidad media del viento del año']]\n",
    "\n",
    "with open('C:\\\\Users\\\\Jassan\\\\Desktop\\\\Trimestre_5\\\\Python\\\\python\\\\Estaciones-Eolicas\\\\files\\\\06\\\\requerimiento3.csv', 'w', newline='') as ejercicio3:\n",
    "    writer = csv.writer(ejercicio3,delimiter=\";\")\n",
    "    writer.writerows(requerimiento3)\n",
    "print('correcto')"
   ]
  },
  {
   "cell_type": "code",
   "execution_count": 65,
   "metadata": {},
   "outputs": [
    {
     "name": "stdout",
     "output_type": "stream",
     "text": [
      "correcto\n"
     ]
    }
   ],
   "source": [
    "import csv\n",
    "\n",
    "requerimiento4 = [['Estacion','Año','Velocidad media del viento del año']]\n",
    "\n",
    "with open('C:\\\\Users\\\\Jassan\\\\Desktop\\\\Trimestre_5\\\\Python\\\\python\\\\Estaciones-Eolicas\\\\files\\\\06\\\\requerimiento4.csv', 'w', newline='') as ejercicio4:\n",
    "    writer = csv.writer(ejercicio4,delimiter=\";\")\n",
    "    writer.writerows(requerimiento4)\n",
    "print('correcto')"
   ]
  },
  {
   "cell_type": "code",
   "execution_count": 66,
   "metadata": {},
   "outputs": [
    {
     "name": "stdout",
     "output_type": "stream",
     "text": [
      "correcto\n"
     ]
    }
   ],
   "source": [
    "import csv\n",
    "\n",
    "requerimiento5 = [['Estacion','Mes','Velocidad media del mes calculada sobre todos los datos']]\n",
    "\n",
    "with open('C:\\\\Users\\\\Jassan\\\\Desktop\\\\Trimestre_5\\\\Python\\\\python\\\\Estaciones-Eolicas\\\\files\\\\06\\\\requerimiento5.csv', 'w', newline='') as ejercicio5:\n",
    "    writer = csv.writer(ejercicio5,delimiter=\";\")\n",
    "    writer.writerows(requerimiento5)\n",
    "print('correcto')"
   ]
  },
  {
   "cell_type": "code",
   "execution_count": 67,
   "metadata": {},
   "outputs": [
    {
     "name": "stdout",
     "output_type": "stream",
     "text": [
      "correcto\n"
     ]
    }
   ],
   "source": [
    "import csv\n",
    "\n",
    "requerimiento6 = [['Estacion','Hora','Velocidad media para ese hora calculada sobre todos los datos']]\n",
    "\n",
    "with open('C:\\\\Users\\\\Jassan\\\\Desktop\\\\Trimestre_5\\\\Python\\\\python\\\\Estaciones-Eolicas\\\\files\\\\06\\\\requerimiento6.csv', 'w', newline='') as ejercicio6:\n",
    "    writer = csv.writer(ejercicio6,delimiter=\";\")\n",
    "    writer.writerows(requerimiento6)\n",
    "print('correcto')"
   ]
  },
  {
   "cell_type": "code",
   "execution_count": 68,
   "metadata": {},
   "outputs": [
    {
     "name": "stdout",
     "output_type": "stream",
     "text": [
      "correcto\n"
     ]
    }
   ],
   "source": [
    "import csv\n",
    "\n",
    "requerimiento7 = [['Estacion','Mes(MM)','Hora(HH)','Velocidad media para ese mes y esa hora calculada sobre todos los datos.']]\n",
    "\n",
    "with open('C:\\\\Users\\\\Jassan\\\\Desktop\\\\Trimestre_5\\\\Python\\\\python\\\\Estaciones-Eolicas\\\\files\\\\06\\\\requerimiento7.csv', 'w', newline='') as ejercicio7:\n",
    "    writer = csv.writer(ejercicio7,delimiter=\";\")\n",
    "    writer.writerows(requerimiento7)\n",
    "print('correcto')"
   ]
  },
  {
   "cell_type": "code",
   "execution_count": null,
   "metadata": {},
   "outputs": [],
   "source": []
  }
 ],
 "metadata": {
  "kernelspec": {
   "display_name": "Python 3",
   "language": "python",
   "name": "python3"
  },
  "language_info": {
   "codemirror_mode": {
    "name": "ipython",
    "version": 3
   },
   "file_extension": ".py",
   "mimetype": "text/x-python",
   "name": "python",
   "nbconvert_exporter": "python",
   "pygments_lexer": "ipython3",
   "version": "3.7.3"
  }
 },
 "nbformat": 4,
 "nbformat_minor": 2
}
